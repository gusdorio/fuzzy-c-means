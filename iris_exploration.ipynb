{
 "cells": [
  {
   "cell_type": "markdown",
   "id": "9332030afcf4df1f",
   "metadata": {},
   "source": [
    "# <h1>Exploratory Data Analysis - Iris Dataset</h1>\n",
    "## <a href= https://archive.ics.uci.edu/ml/datasets/iris> Public link to dataset <a/>"
   ]
  },
  {
   "cell_type": "code",
   "execution_count": 1,
   "id": "ee78b77b64f4617",
   "metadata": {
    "ExecuteTime": {
     "end_time": "2025-03-15T22:51:01.214895Z",
     "start_time": "2025-03-15T22:51:01.210978Z"
    }
   },
   "outputs": [],
   "source": [
    "import pandas as pd\n",
    "import matplotlib.pyplot as plt\n",
    "import seaborn as sns\n",
    "import numpy as np"
   ]
  },
  {
   "cell_type": "code",
   "execution_count": 2,
   "id": "7f789e8db1ad17f7",
   "metadata": {
    "ExecuteTime": {
     "end_time": "2025-03-15T22:53:03.632241Z",
     "start_time": "2025-03-15T22:53:03.612853Z"
    }
   },
   "outputs": [],
   "source": [
    "tips = sns.load_dataset(\"iris\")\n",
    "irisDataFrame = pd.DataFrame(tips)"
   ]
  },
  {
   "cell_type": "markdown",
   "id": "cb8c63d5901f6454",
   "metadata": {},
   "source": [
    "<br>Making a scaterplot of sample features in relation to each other distances</br>"
   ]
  },
  {
   "cell_type": "code",
   "execution_count": 3,
   "id": "a74d00eca969863d",
   "metadata": {
    "ExecuteTime": {
     "end_time": "2025-03-15T22:53:15.032684Z",
     "start_time": "2025-03-15T22:53:15.020700Z"
    }
   },
   "outputs": [
    {
     "name": "stdout",
     "output_type": "stream",
     "text": [
      "   sepal_length  sepal_width  petal_length  petal_width species\n",
      "0           5.1          3.5           1.4          0.2  setosa\n",
      "1           4.9          3.0           1.4          0.2  setosa\n",
      "2           4.7          3.2           1.3          0.2  setosa\n",
      "    sepal_length  sepal_width  petal_length  petal_width     species\n",
      "0            5.1          3.5           1.4          0.2      setosa\n",
      "1            4.9          3.0           1.4          0.2      setosa\n",
      "2            4.7          3.2           1.3          0.2      setosa\n",
      "3            4.6          3.1           1.5          0.2      setosa\n",
      "4            5.0          3.6           1.4          0.2      setosa\n",
      "..           ...          ...           ...          ...         ...\n",
      "95           5.7          3.0           4.2          1.2  versicolor\n",
      "96           5.7          2.9           4.2          1.3  versicolor\n",
      "97           6.2          2.9           4.3          1.3  versicolor\n",
      "98           5.1          2.5           3.0          1.1  versicolor\n",
      "99           5.7          2.8           4.1          1.3  versicolor\n",
      "\n",
      "[100 rows x 5 columns]\n"
     ]
    }
   ],
   "source": [
    "print(tips.head(3))\n",
    "print(irisDataFrame.head(100))"
   ]
  },
  {
   "cell_type": "code",
   "execution_count": 4,
   "id": "dd2ae73d8705f58a",
   "metadata": {
    "ExecuteTime": {
     "end_time": "2025-03-15T22:53:05.689494Z",
     "start_time": "2025-03-15T22:53:05.537395Z"
    }
   },
   "outputs": [
    {
     "data": {
      "image/png": "[encoded data removed]",
      "text/plain": [
       "<Figure size 640x480 with 1 Axes>"
      ]
     },
     "metadata": {},
     "output_type": "display_data"
    }
   ],
   "source": [
    "sns.scatterplot(data=tips, x=\"sepal_length\", y=\"sepal_width\")\n",
    "sns.scatterplot(data=tips, x=\"petal_length\", y=\"petal_width\")\n",
    "\n",
    "# Show the plot\n",
    "plt.show()"
   ]
  },
  {
   "cell_type": "markdown",
   "id": "61f52f0c",
   "metadata": {},
   "source": [
    "Tests from main"
   ]
  },
  {
   "cell_type": "markdown",
   "id": "dd570bc2",
   "metadata": {},
   "source": [
    "#### **Set data ready to be used**"
   ]
  },
  {
   "cell_type": "markdown",
   "id": "5ececa77",
   "metadata": {},
   "source": [
    "##### **Complete Iris --> Only values for implementation**"
   ]
  },
  {
   "cell_type": "code",
   "execution_count": 5,
   "id": "e8b18610",
   "metadata": {
    "vscode": {
     "languageId": "javascript"
    }
   },
   "outputs": [],
   "source": [
    "irisOnlyDataComplete = irisDataFrame[['sepal_length', 'sepal_width', 'petal_length', 'petal_width']].values"
   ]
  },
  {
   "cell_type": "markdown",
   "id": "9c3b240e",
   "metadata": {},
   "source": [
    "##### **Partial Iris --> Virginica, Versicolor**"
   ]
  },
  {
   "cell_type": "code",
   "execution_count": 6,
   "id": "9e89d396",
   "metadata": {},
   "outputs": [],
   "source": [
    "irisDataVerVir = irisDataFrame[(irisDataFrame.species == 'versicolor') | (irisDataFrame.species == 'virginica')]\n",
    "irirOnlyVersicolorVirginica = irisDataVerVir[['sepal_length', 'sepal_width', 'petal_length', 'petal_width']].values\n",
    "\n",
    "irisSampleAssigments_full = irisDataFrame['species']\n",
    "irisSampleAssigments_partial = irisDataVerVir['species'].reset_index(drop=True)"
   ]
  },
  {
   "cell_type": "markdown",
   "id": "1435389b",
   "metadata": {},
   "source": [
    "##### **Result plots**"
   ]
  },
  {
   "cell_type": "code",
   "execution_count": 7,
   "id": "4ab3e684",
   "metadata": {},
   "outputs": [],
   "source": [
    "from fuzzyClass import FuzzyCMeans"
   ]
  },
  {
   "cell_type": "code",
   "execution_count": 8,
   "id": "374bb46a",
   "metadata": {},
   "outputs": [
    {
     "name": "stdout",
     "output_type": "stream",
     "text": [
      "The maximum convergence reached was: 13.051627712752065\n",
      "\n",
      "\n",
      "Application > To see pertinence, simple call self.samples_dict or choose your desired sample.\n"
     ]
    }
   ],
   "source": [
    "# Appling algorithm on full data base\n",
    "full_data = FuzzyCMeans(irisOnlyDataComplete, max_iter=100)\n",
    "full_data.generate_pertinence()"
   ]
  },
  {
   "cell_type": "code",
   "execution_count": 9,
   "id": "d99b102f",
   "metadata": {},
   "outputs": [
    {
     "name": "stdout",
     "output_type": "stream",
     "text": [
      "The maximum convergence reached was: 8.392021749731462\n",
      "\n",
      "\n",
      "Application > To see pertinence, simple call self.samples_dict or choose your desired sample.\n"
     ]
    }
   ],
   "source": [
    "# Appling algorithm on particional data base\n",
    "\n",
    "partial_data = FuzzyCMeans(irirOnlyVersicolorVirginica, max_iter=100)\n",
    "partial_data.generate_pertinence()"
   ]
  },
  {
   "cell_type": "markdown",
   "id": "4f0af117",
   "metadata": {},
   "source": [
    "<h1> Micro hub to compare pertinence with original...<h1>"
   ]
  },
  {
   "cell_type": "markdown",
   "id": "7b9952b7",
   "metadata": {},
   "source": [
    "<h3> FULL DATASET: </h3>"
   ]
  },
  {
   "cell_type": "code",
   "execution_count": 10,
   "id": "aabb113d",
   "metadata": {},
   "outputs": [
    {
     "name": "stdout",
     "output_type": "stream",
     "text": [
      "Pertinences from sample x1: \n",
      " {'k1': np.float64(0.9860584933924023), 'k2': np.float64(0.00697075330379892), 'k3': np.float64(0.0069707533037989084)} \n",
      "\n",
      "Original sample specie: setosa\n"
     ]
    }
   ],
   "source": [
    "sample_select = 1  # Select the sample to see the pertinence\n",
    "\n",
    "x1 = full_data.samples_dict[f\"x{sample_select}\"]\n",
    "print(f\"Pertinences from sample x1: \\n {x1} \\n\")\n",
    "\n",
    "# Compare with the original data\n",
    "print(f\"Original sample specie: {irisSampleAssigments_full[sample_select - 1]}\")"
   ]
  },
  {
   "cell_type": "markdown",
   "id": "72f611ed",
   "metadata": {},
   "source": [
    "<h3> PARTIAL DATASET: </h3>"
   ]
  },
  {
   "cell_type": "code",
   "execution_count": 11,
   "id": "07d48d87",
   "metadata": {},
   "outputs": [
    {
     "name": "stdout",
     "output_type": "stream",
     "text": [
      "Pertinences from sample x1: \n",
      " {'k1': np.float64(0.28497725380971967), 'k2': np.float64(0.28497725380971994), 'k3': np.float64(0.4300454923805604)} \n",
      "\n",
      "Original sample specie: versicolor\n"
     ]
    }
   ],
   "source": [
    "sample_select = 1  # Select the sample to see the pertinence\n",
    "\n",
    "x1 = partial_data.samples_dict[f\"x{sample_select}\"]\n",
    "print(f\"Pertinences from sample x1: \\n {x1} \\n\")\n",
    "\n",
    "# Compare with the original data\n",
    "print(f\"Original sample specie: {irisSampleAssigments_partial[sample_select - 1]}\")"
   ]
  }
 ],
 "metadata": {
  "kernelspec": {
   "display_name": ".venv",
   "language": "python",
   "name": "python3"
  },
  "language_info": {
   "codemirror_mode": {
    "name": "ipython",
    "version": 3
   },
   "file_extension": ".py",
   "mimetype": "text/x-python",
   "name": "python",
   "nbconvert_exporter": "python",
   "pygments_lexer": "ipython3",
   "version": "3.11.4"
  }
 },
 "nbformat": 4,
 "nbformat_minor": 5
}
